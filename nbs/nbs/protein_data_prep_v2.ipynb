{
  "nbformat": 4,
  "nbformat_minor": 0,
  "metadata": {
    "colab": {
      "provenance": []
    },
    "kernelspec": {
      "name": "python3",
      "display_name": "Python 3"
    },
    "language_info": {
      "name": "python"
    }
  },
  "cells": [
    {
      "cell_type": "code",
      "execution_count": null,
      "metadata": {
        "id": "Kgr6lb-IhGd4"
      },
      "outputs": [],
      "source": [
        "import os\n",
        "import pandas as pd\n",
        "import xml.etree.ElementTree as ET\n",
        "from Bio.Blast import NCBIXML\n",
        "from Bio import Entrez, SeqIO\n",
        "import requests\n",
        "import re\n",
        "from tqdm import tqdm\n",
        "import json"
      ]
    },
    {
      "cell_type": "code",
      "source": [
        "#Read in the uniprotKB proteins ; this file is from searching the uniprot website\n",
        "\n",
        "with open('uniprotkb_Nicotine_AND_taxonomy_id_4085_2023_07_25.json') as f:\n",
        "    data = json.load(f)\n",
        "\n",
        "#get all the uniprot_ids\n",
        "uniprot_ids_og  = []\n",
        "for i in data['results']:\n",
        "  uniprot_ids_og.append(i['primaryAccession'])"
      ],
      "metadata": {
        "id": "xcf2ix3YEM1E"
      },
      "execution_count": null,
      "outputs": []
    },
    {
      "cell_type": "code",
      "source": [
        "#Read in the blast results ; this file is from running pBlast with the browser tool\n",
        "with open('BY9H05C4016-Alignment.json') as f:\n",
        "    blast_results = json.load(f)"
      ],
      "metadata": {
        "id": "pdJszqxUv60c"
      },
      "execution_count": null,
      "outputs": []
    },
    {
      "cell_type": "code",
      "source": [
        "#blast_results['BlastOutput2'][0]['report']['results']['search']['hits'][0]['description'][0]['accession']\n",
        "#len(blast_results['BlastOutput2'][x]['report']['results']['search']['hits'])\n",
        "#base_protein_count = len(blast_results['BlastOutput2'])"
      ],
      "metadata": {
        "colab": {
          "base_uri": "https://localhost:8080/",
          "height": 35
        },
        "id": "MTHjRPMhwO2d",
        "outputId": "c20f314f-4043-4b96-b647-2a7722071d33"
      },
      "execution_count": null,
      "outputs": [
        {
          "output_type": "execute_result",
          "data": {
            "text/plain": [
              "'Q40479'"
            ],
            "application/vnd.google.colaboratory.intrinsic+json": {
              "type": "string"
            }
          },
          "metadata": {},
          "execution_count": 61
        }
      ]
    },
    {
      "cell_type": "code",
      "source": [
        "# get the uniprotkb ids of the blast results\n",
        "list_ids = []\n",
        "for i in range(base_protein_count):\n",
        "  total_hits = len(blast_results['BlastOutput2'][i]['report']['results']['search']['hits'])\n",
        "  for x in range(total_hits):\n",
        "    list_ids.append(blast_results['BlastOutput2'][i]['report']['results']['search']['hits'][x]['description'][0]['accession'])\n",
        "print(len(list_ids))\n",
        "print(len(set(list_ids)))\n",
        "\n",
        "list_ids = list(set(list_ids))"
      ],
      "metadata": {
        "colab": {
          "base_uri": "https://localhost:8080/"
        },
        "id": "HqcqwQxEx39_",
        "outputId": "07880952-a9f9-4a5c-c3f2-c708ab1cfa10"
      },
      "execution_count": null,
      "outputs": [
        {
          "output_type": "stream",
          "name": "stdout",
          "text": [
            "27185\n",
            "2566\n"
          ]
        }
      ]
    },
    {
      "cell_type": "code",
      "source": [
        "# filter out the uniprot results from blasted results\n",
        "#Remove protein ids that are already in the uniprotkb set\n",
        "uniprot_set = set(data)\n",
        "list_result = [x for x in list_ids if x not in uniprot_ids_og]\n",
        "len(list_result)"
      ],
      "metadata": {
        "colab": {
          "base_uri": "https://localhost:8080/"
        },
        "id": "u3I5JMjxDubA",
        "outputId": "c9f1090f-ede2-4d7b-c246-a64e6c5b9df0"
      },
      "execution_count": null,
      "outputs": [
        {
          "output_type": "execute_result",
          "data": {
            "text/plain": [
              "2525"
            ]
          },
          "metadata": {},
          "execution_count": 120
        }
      ]
    },
    {
      "cell_type": "code",
      "source": [
        "# sample ~600 proteins to include in the database\n",
        "import random\n",
        "random.seed(1)\n",
        "sampled_blast = random.sample(list_result, 600)"
      ],
      "metadata": {
        "id": "s6Ekzv6Y0NZE"
      },
      "execution_count": null,
      "outputs": []
    },
    {
      "cell_type": "code",
      "source": [
        "\n",
        "# Dictionary to hold all protein data\n",
        "all_protein_data = {}\n",
        "total = 0\n",
        "\n",
        "\n",
        "for c, uniprot_id in enumerate(sampled_blast):\n",
        "  try:\n",
        "    response = requests.get(f\"https://www.uniprot.org/uniprot/{uniprot_id}.json\", timeout=10)\n",
        "    print(c)\n",
        "    if response.status_code == 200:\n",
        "        protein_data = response.json()\n",
        "        all_protein_data[uniprot_id] = protein_data\n",
        "        total += 1\n",
        "    else:\n",
        "        print(f\"Failed to retrieve data for {uniprot_id}. HTTP status code: {response.status_code}\")\n",
        "  except:\n",
        "    print('timed out')\n",
        "print(f' total timed out is {total}')"
      ],
      "metadata": {
        "id": "G-qnwzoPyNuY"
      },
      "execution_count": null,
      "outputs": []
    },
    {
      "cell_type": "code",
      "source": [
        "#combine the json for the uniprot results and the blast results\n",
        "len(all_protein_data)"
      ],
      "metadata": {
        "id": "1-GHkfhyGAXd",
        "colab": {
          "base_uri": "https://localhost:8080/"
        },
        "outputId": "525c433d-6f01-4c19-9457-40aaed0ca8ab"
      },
      "execution_count": 125,
      "outputs": [
        {
          "output_type": "execute_result",
          "data": {
            "text/plain": [
              "600"
            ]
          },
          "metadata": {},
          "execution_count": 125
        }
      ]
    },
    {
      "cell_type": "code",
      "source": [
        "# store dataset in json for next part of pipeline\n",
        "dataset_json = {}\n",
        "dataset_json['blast_protein'] = all_protein_data\n",
        "dataset_json['uniprot_protein'] = data\n"
      ],
      "metadata": {
        "id": "zh3HHBzXI6Kg"
      },
      "execution_count": 130,
      "outputs": []
    },
    {
      "cell_type": "code",
      "source": [
        "#save json\n",
        "dataset_json_path = 'dataset_json.json'\n",
        "with open(dataset_json_path, 'w') as f:\n",
        "    json.dump(dataset_json, f)\n"
      ],
      "metadata": {
        "id": "BXjWRjg9JBJ5"
      },
      "execution_count": 132,
      "outputs": []
    },
    {
      "cell_type": "code",
      "source": [],
      "metadata": {
        "id": "GhvoUXtOJT-0"
      },
      "execution_count": null,
      "outputs": []
    }
  ]
}