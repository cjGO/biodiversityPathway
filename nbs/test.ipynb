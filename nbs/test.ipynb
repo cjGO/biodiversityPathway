{
 "cells": [
  {
   "cell_type": "code",
   "execution_count": 72,
   "metadata": {},
   "outputs": [],
   "source": [
    "import os\n",
    "import pandas as pd\n",
    "import xml.etree.ElementTree as ET\n",
    "from Bio.Blast import NCBIXML\n"
   ]
  },
  {
   "cell_type": "code",
   "execution_count": 73,
   "metadata": {},
   "outputs": [
    {
     "name": "stdout",
     "output_type": "stream",
     "text": [
      "./data//A0A1S4AUX8_blast_results.xml\n"
     ]
    }
   ],
   "source": [
    "data_folder = './data/'\n",
    "path = f\"{data_folder}/{os.listdir(data_folder)[0]}\"\n",
    "print(path)"
   ]
  },
  {
   "cell_type": "code",
   "execution_count": 74,
   "metadata": {},
   "outputs": [],
   "source": [
    "resgen = NCBIXML.parse(path)"
   ]
  },
  {
   "cell_type": "code",
   "execution_count": 93,
   "metadata": {},
   "outputs": [
    {
     "name": "stdout",
     "output_type": "stream",
     "text": [
      "1\n"
     ]
    }
   ],
   "source": [
    "\n",
    "uniprot_regex = r'>sp\\|[\\w.-]+\\|'\n",
    "import re\n",
    "# Open the XML file for reading\n",
    "ids =  []\n",
    "hit_sequences = []\n",
    "count = 0\n",
    "\n",
    "for path in ['./data/' + x for x in os.listdir('./data')]:\n",
    "    try:\n",
    "        with open(path) as result_file:\n",
    "            # Parse the Blast results\n",
    "            blast_records = NCBIXML.read(result_file)\n",
    "            # Iterate over each alignment (hit)\n",
    "            for alignment in blast_records.alignments:\n",
    "                ids.append(alignment.accession)\n",
    "                str_alignment = str(alignment)\n",
    "                #ids.append(str_alignment.split('|')[1].split('.')[0])\n",
    "                for hsp in alignment.hsps:\n",
    "                    hit_sequences.append(hsp.sbjct.replace('-', ''))\n",
    "    except:\n",
    "        count +=1\n",
    "print(count)"
   ]
  },
  {
   "cell_type": "code",
   "execution_count": 94,
   "metadata": {},
   "outputs": [
    {
     "data": {
      "text/plain": [
       "7549"
      ]
     },
     "execution_count": 94,
     "metadata": {},
     "output_type": "execute_result"
    }
   ],
   "source": [
    "len(ids)"
   ]
  },
  {
   "cell_type": "code",
   "execution_count": 95,
   "metadata": {},
   "outputs": [
    {
     "data": {
      "text/plain": [
       "2269"
      ]
     },
     "execution_count": 95,
     "metadata": {},
     "output_type": "execute_result"
    }
   ],
   "source": [
    "len(set(ids))"
   ]
  },
  {
   "cell_type": "code",
   "execution_count": 97,
   "metadata": {},
   "outputs": [
    {
     "data": {
      "text/plain": [
       "3872"
      ]
     },
     "execution_count": 97,
     "metadata": {},
     "output_type": "execute_result"
    }
   ],
   "source": [
    "len(set(hit_sequences))"
   ]
  },
  {
   "cell_type": "code",
   "execution_count": 82,
   "metadata": {},
   "outputs": [],
   "source": [
    "IDS = ','.join(ids)"
   ]
  },
  {
   "cell_type": "code",
   "execution_count": 90,
   "metadata": {},
   "outputs": [
    {
     "data": {
      "text/plain": [
       "87630"
      ]
     },
     "execution_count": 90,
     "metadata": {},
     "output_type": "execute_result"
    }
   ],
   "source": []
  },
  {
   "cell_type": "code",
   "execution_count": 87,
   "metadata": {},
   "outputs": [
    {
     "data": {
      "text/plain": [
       "7646"
      ]
     },
     "execution_count": 87,
     "metadata": {},
     "output_type": "execute_result"
    }
   ],
   "source": [
    "len(hit_sequences)"
   ]
  },
  {
   "cell_type": "code",
   "execution_count": 96,
   "metadata": {},
   "outputs": [
    {
     "data": {
      "text/plain": [
       "3872"
      ]
     },
     "execution_count": 96,
     "metadata": {},
     "output_type": "execute_result"
    }
   ],
   "source": []
  },
  {
   "cell_type": "code",
   "execution_count": 82,
   "metadata": {},
   "outputs": [
    {
     "data": {
      "text/plain": [
       "'<!doctype html><html lang=\"en\"><head><meta charset=\"utf-8\"/><title>UniProt</title><meta name=\"viewport\" content=\"width=device-width,initial-scale=1\"/><meta name=\"theme-color\" content=\"#00639a\"/><link rel=\"apple-touch-icon\" sizes=\"180x180\" href=\"/apple-touch-icon.png\"/><link rel=\"shortcut icon\" type=\"image/png\" sizes=\"144x144\" href=\"/mstile-144x144.png\"/><link rel=\"icon\" type=\"image/png\" sizes=\"32x32\" href=\"/favicon-32x32.png\"/><link rel=\"icon\" type=\"image/png\" sizes=\"16x16\" href=\"/favicon-16x16.png\"/><link rel=\"manifest\" href=\"/manifest.json\"/><link rel=\"preconnect\" href=\"https://fonts.gstatic.com/\"/><link rel=\"preconnect\" href=\"https://rest.uniprot.org/\"/><link rel=\"preload\" as=\"style\" href=\"https://fonts.googleapis.com/css?family=Lato:400,700|Source+Sans+Pro:600,700&display=swap\"/><script async src=\"https://www.googletagmanager.com/gtag/js?id=G-V6TXEC4BDF\"></script><script>window.dataLayer = window.dataLayer || [];\\n      function gtag() {\\n        dataLayer.push(arguments);\\n      }\\n      gtag(\\'js\\', new Date());\\n\\n      // GA4\\n      gtag(\\'config\\', \\'G-V6TXEC4BDF\\', {\\n        anonymize_ip: true,\\n        allow_google_signals: false,\\n        allow_ad_personalization_signals: false,\\n        restricted_data_processing: true,\\n        custom_map: {\\n          dimension1: \\'result_view\\',\\n          metric1: \\'result_view_set\\',\\n        },\\n        send_page_view: false,\\n      });\\n      // UA\\n      gtag(\\'config\\', \\'UA-6228219-1\\', {\\n        anonymize_ip: true,\\n        allow_google_signals: false,\\n        allow_ad_personalization_signals: false,\\n        restricted_data_processing: true,\\n        custom_map: {\\n          dimension1: \\'result_view\\',\\n          metric1: \\'result_view_set\\',\\n        },\\n        send_page_view: false,\\n      });</script><script>(function (h, o, t, j, a, r) {\\n        h.hj =\\n          h.hj ||\\n          function () {\\n            (h.hj.q = h.hj.q || []).push(arguments);\\n          };\\n        h._hjSettings = { hjid: 2638207, hjsv: 6 };\\n        a = o.getElementsByTagName(\\'head\\')[0];\\n        r = o.createElement(\\'script\\');\\n        r.async = 1;\\n        r.src = t + h._hjSettings.hjid + j + h._hjSettings.hjsv;\\n        a.appendChild(r);\\n      })(window, document, \\'https://static.hotjar.com/c/hotjar-\\', \\'.js?sv=\\');</script><style>#root > .fallback {\\n        height: 90vh;\\n        display: flex;\\n        align-items: center;\\n        justify-content: center;\\n        opacity: 0;\\n        animation: fallback-appear 1s 1 10s both;\\n      }\\n\\n      #root > .fallback > div {\\n        max-width: 60ch;\\n      }\\n\\n      #root > .fallback li {\\n        margin-bottom: 1em;\\n      }\\n\\n      @keyframes fallback-appear {\\n        from {\\n          opacity: 0;\\n        }\\n        to {\\n          opacity: 1;\\n        }\\n      }</style><link rel=\"stylesheet\" href=\"/styles.6f2cd3.css\"/><link rel=\"stylesheet\" href=\"/styles.8a7ea9.css\"/></head><body><div id=\"root\"><div class=\"fallback\" data-nosnippet><div><h1>UniProt website fallback message</h1>If you are not seeing anything on this page, it might be for multiple reasons:<ul><li><strong>You might have JavaScript disabled</strong>: make sure to enable JavaScript on your browser, or use a browser that supports JavaScript.</li><li><strong>You might have an outdated browser</strong>: make sure that your browser is up to date as older versions might not work with the website.</li><li><strong>There might have been a network issue</strong>: ensure that your connectivity is stable and try to reload the page to see if it solves the issue. <button onclick=\"location.reload();\">Reload this page</button></li></ul></div></div></div><script nomodule>// workaround for Safari 10.1 supporting module but ignoring nomodule\\n      // From https://gist.github.com/samthor/64b114e4a4f539915a95b91ffd340acc\\n      (function () {\\n        var d = document;\\n        var c = d.createElement(\\'script\\');\\n        if (!(\\'noModule\\' in c) && \\'onbeforeload\\' in c) {\\n          var s = false;\\n          d.addEventListener(\\n            \\'beforeload\\',\\n            function (e) {\\n              if (e.target === c) {\\n                s = true;\\n              } else if (!e.target.hasAttribute(\\'nomodule\\') || !s) {\\n                return;\\n              }\\n              e.preventDefault();\\n            },\\n            true\\n          );\\n\\n          c.type = \\'module\\';\\n          c.src = \\'.\\';\\n          d.head.appendChild(c);\\n          c.remove();\\n        }\\n      })();</script><script type=\"module\" src=\"/modern.app.4a5fc9.js\"></script><script type=\"module\" src=\"/modern.app.9062d6.js\"></script><script type=\"module\" src=\"/modern.app.922f2d.js\"></script><script type=\"module\" src=\"/modern.app.d71532.js\"></script><script type=\"module\" src=\"/modern.app.382058.js\"></script><script nomodule defer=\"defer\" src=\"/legacy.app.a1c3a9.js\"></script><script nomodule defer=\"defer\" src=\"/legacy.app.9062d6.js\"></script><script nomodule defer=\"defer\" src=\"/legacy.app.922f2d.js\"></script><script nomodule defer=\"defer\" src=\"/legacy.app.1e5b43.js\"></script><script nomodule defer=\"defer\" src=\"/legacy.app.8d185f.js\"></script></body></html>'"
      ]
     },
     "execution_count": 82,
     "metadata": {},
     "output_type": "execute_result"
    }
   ],
   "source": [
    "x = requests.get('https://www.uniprot.org/uniprotkb?query=XP_027126515')\n",
    "x.text"
   ]
  },
  {
   "cell_type": "code",
   "execution_count": 105,
   "metadata": {},
   "outputs": [
    {
     "name": "stdout",
     "output_type": "stream",
     "text": [
      "<!doctype html><html lang=\"en\"><head><meta charset=\"utf-8\"/><title>UniProt</title><meta name=\"viewport\" content=\"width=device-width,initial-scale=1\"/><meta name=\"theme-color\" content=\"#00639a\"/><link rel=\"apple-touch-icon\" sizes=\"180x180\" href=\"/apple-touch-icon.png\"/><link rel=\"shortcut icon\" type=\"image/png\" sizes=\"144x144\" href=\"/mstile-144x144.png\"/><link rel=\"icon\" type=\"image/png\" sizes=\"32x32\" href=\"/favicon-32x32.png\"/><link rel=\"icon\" type=\"image/png\" sizes=\"16x16\" href=\"/favicon-16x16.png\"/><link rel=\"manifest\" href=\"/manifest.json\"/><link rel=\"preconnect\" href=\"https://fonts.gstatic.com/\"/><link rel=\"preconnect\" href=\"https://rest.uniprot.org/\"/><link rel=\"preload\" as=\"style\" href=\"https://fonts.googleapis.com/css?family=Lato:400,700|Source+Sans+Pro:600,700&display=swap\"/><script async src=\"https://www.googletagmanager.com/gtag/js?id=G-V6TXEC4BDF\"></script><script>window.dataLayer = window.dataLayer || [];\n",
      "      function gtag() {\n",
      "        dataLayer.push(arguments);\n",
      "      }\n",
      "      gtag('js', new Date());\n",
      "\n",
      "      // GA4\n",
      "      gtag('config', 'G-V6TXEC4BDF', {\n",
      "        anonymize_ip: true,\n",
      "        allow_google_signals: false,\n",
      "        allow_ad_personalization_signals: false,\n",
      "        restricted_data_processing: true,\n",
      "        custom_map: {\n",
      "          dimension1: 'result_view',\n",
      "          metric1: 'result_view_set',\n",
      "        },\n",
      "        send_page_view: false,\n",
      "      });\n",
      "      // UA\n",
      "      gtag('config', 'UA-6228219-1', {\n",
      "        anonymize_ip: true,\n",
      "        allow_google_signals: false,\n",
      "        allow_ad_personalization_signals: false,\n",
      "        restricted_data_processing: true,\n",
      "        custom_map: {\n",
      "          dimension1: 'result_view',\n",
      "          metric1: 'result_view_set',\n",
      "        },\n",
      "        send_page_view: false,\n",
      "      });</script><script>(function (h, o, t, j, a, r) {\n",
      "        h.hj =\n",
      "          h.hj ||\n",
      "          function () {\n",
      "            (h.hj.q = h.hj.q || []).push(arguments);\n",
      "          };\n",
      "        h._hjSettings = { hjid: 2638207, hjsv: 6 };\n",
      "        a = o.getElementsByTagName('head')[0];\n",
      "        r = o.createElement('script');\n",
      "        r.async = 1;\n",
      "        r.src = t + h._hjSettings.hjid + j + h._hjSettings.hjsv;\n",
      "        a.appendChild(r);\n",
      "      })(window, document, 'https://static.hotjar.com/c/hotjar-', '.js?sv=');</script><style>#root > .fallback {\n",
      "        height: 90vh;\n",
      "        display: flex;\n",
      "        align-items: center;\n",
      "        justify-content: center;\n",
      "        opacity: 0;\n",
      "        animation: fallback-appear 1s 1 10s both;\n",
      "      }\n",
      "\n",
      "      #root > .fallback > div {\n",
      "        max-width: 60ch;\n",
      "      }\n",
      "\n",
      "      #root > .fallback li {\n",
      "        margin-bottom: 1em;\n",
      "      }\n",
      "\n",
      "      @keyframes fallback-appear {\n",
      "        from {\n",
      "          opacity: 0;\n",
      "        }\n",
      "        to {\n",
      "          opacity: 1;\n",
      "        }\n",
      "      }</style><link rel=\"stylesheet\" href=\"/styles.6f2cd3.css\"/><link rel=\"stylesheet\" href=\"/styles.8a7ea9.css\"/></head><body><div id=\"root\"><div class=\"fallback\" data-nosnippet><div><h1>UniProt website fallback message</h1>If you are not seeing anything on this page, it might be for multiple reasons:<ul><li><strong>You might have JavaScript disabled</strong>: make sure to enable JavaScript on your browser, or use a browser that supports JavaScript.</li><li><strong>You might have an outdated browser</strong>: make sure that your browser is up to date as older versions might not work with the website.</li><li><strong>There might have been a network issue</strong>: ensure that your connectivity is stable and try to reload the page to see if it solves the issue. <button onclick=\"location.reload();\">Reload this page</button></li></ul></div></div></div><script nomodule>// workaround for Safari 10.1 supporting module but ignoring nomodule\n",
      "      // From https://gist.github.com/samthor/64b114e4a4f539915a95b91ffd340acc\n",
      "      (function () {\n",
      "        var d = document;\n",
      "        var c = d.createElement('script');\n",
      "        if (!('noModule' in c) && 'onbeforeload' in c) {\n",
      "          var s = false;\n",
      "          d.addEventListener(\n",
      "            'beforeload',\n",
      "            function (e) {\n",
      "              if (e.target === c) {\n",
      "                s = true;\n",
      "              } else if (!e.target.hasAttribute('nomodule') || !s) {\n",
      "                return;\n",
      "              }\n",
      "              e.preventDefault();\n",
      "            },\n",
      "            true\n",
      "          );\n",
      "\n",
      "          c.type = 'module';\n",
      "          c.src = '.';\n",
      "          d.head.appendChild(c);\n",
      "          c.remove();\n",
      "        }\n",
      "      })();</script><script type=\"module\" src=\"/modern.app.4a5fc9.js\"></script><script type=\"module\" src=\"/modern.app.9062d6.js\"></script><script type=\"module\" src=\"/modern.app.922f2d.js\"></script><script type=\"module\" src=\"/modern.app.d71532.js\"></script><script type=\"module\" src=\"/modern.app.382058.js\"></script><script nomodule defer=\"defer\" src=\"/legacy.app.a1c3a9.js\"></script><script nomodule defer=\"defer\" src=\"/legacy.app.9062d6.js\"></script><script nomodule defer=\"defer\" src=\"/legacy.app.922f2d.js\"></script><script nomodule defer=\"defer\" src=\"/legacy.app.1e5b43.js\"></script><script nomodule defer=\"defer\" src=\"/legacy.app.8d185f.js\"></script></body></html>"
     ]
    }
   ],
   "source": [
    "!curl -s 'https://www.uniprot.org/uniprotkb?query=XP_027126515'"
   ]
  },
  {
   "cell_type": "code",
   "execution_count": 18,
   "metadata": {},
   "outputs": [
    {
     "name": "stdout",
     "output_type": "stream",
     "text": [
      "{\"jobId\":\"c928648e3206d0875a515085ea5403a09fcaf463\"}\n"
     ]
    }
   ],
   "source": [
    "import requests\n",
    "\n",
    "url = 'https://rest.uniprot.org/idmapping/run'\n",
    "\n",
    "form_data = {\n",
    "    'ids': IDS,\n",
    "    'from': 'RefSeq_Protein',\n",
    "    'to': 'UniProtKB'\n",
    "}\n",
    "\n",
    "response = requests.post(url, data=form_data)\n",
    "\n",
    "if response.status_code == 200:\n",
    "    print(response.text)\n",
    "else:\n",
    "    print(\"Error:\", response.status_code)\n"
   ]
  },
  {
   "cell_type": "code",
   "execution_count": 19,
   "metadata": {},
   "outputs": [
    {
     "name": "stdout",
     "output_type": "stream",
     "text": [
      "HTTP/2 303 \n",
      "\u001b[1mvary\u001b[0m: Accept\n",
      "\u001b[1mvary\u001b[0m: Accept-Encoding\n",
      "\u001b[1mvary\u001b[0m: X-UniProt-Release\n",
      "\u001b[1mvary\u001b[0m: X-API-Deployment-Date\n",
      "\u001b[1mvary\u001b[0m: User-Agent\n",
      "\u001b[1mcache-control\u001b[0m: no-cache\n",
      "\u001b[1mcontent-type\u001b[0m: application/json\n",
      "\u001b[1maccess-control-allow-credentials\u001b[0m: true\n",
      "\u001b[1maccess-control-expose-headers\u001b[0m: Link, X-Total-Results, X-UniProt-Release, X-UniProt-Release-Date, X-API-Deployment-Date\n",
      "\u001b[1mx-api-deployment-date\u001b[0m: 03-May-2023\n",
      "\u001b[1mstrict-transport-security\u001b[0m: max-age=31536000; includeSubDomains\n",
      "\u001b[1mdate\u001b[0m: Sun, 14 May 2023 18:55:56 GMT\n",
      "\u001b[1maccess-control-max-age\u001b[0m: 1728000\n",
      "\u001b[1mx-uniprot-release\u001b[0m: 2023_02\n",
      "\u001b[1mlocation\u001b[0m: https://rest.uniprot.org/idmapping/uniprotkb/results/c928648e3206d0875a515085ea5403a09fcaf463\n",
      "\u001b[1maccess-control-allow-origin\u001b[0m: *\n",
      "\u001b[1maccess-control-allow-methods\u001b[0m: GET, PUT, POST, DELETE, PATCH, OPTIONS\n",
      "\u001b[1maccess-control-allow-headers\u001b[0m: DNT,Keep-Alive,User-Agent,X-Requested-With,If-Modified-Since,Cache-Control,Content-Type,Range,Authorization\n",
      "\u001b[1mx-uniprot-release-date\u001b[0m: 3-May-2023\n",
      "\n",
      "{\"jobStatus\":\"FINISHED\"}"
     ]
    }
   ],
   "source": [
    "!curl -i 'https://rest.uniprot.org/idmapping/status/c928648e3206d0875a515085ea5403a09fcaf463'"
   ]
  },
  {
   "cell_type": "code",
   "execution_count": 20,
   "metadata": {},
   "outputs": [
    {
     "name": "stdout",
     "output_type": "stream",
     "text": [
      "{\"results\":[{\"from\":\"XP_016494243\"},{\"from\":\"XP_009776018\"},{\"from\":\"XP_019238351\"},{\"from\":\"XP_016498472\"},{\"from\":\"XP_006344488\"},{\"from\":\"XP_004236277\"},{\"from\":\"XP_027126515\"},{\"from\":\"XP_027123500\"},{\"from\":\"XP_011071979\"}],\"failedIds\":[\"PHU23677\",\"PHT53795\",\"CAA0818093\",\"KAJ0680579\",\"KAJ8536526\",\"CAA2973614\",\"GFQ07353\",\"KAA8542209\",\"KAH0704548\",\"XP_055826513\",\"KAI3761390\",\"KAI3454402\",\"RAL47561\",\"CAH1423259\",\"KAH0686949\",\"CAI9112788\",\"TMX01342\",\"KAG5618051\",\"KAH0690300\",\"KZV34760\",\"KAJ0639801\",\"PIN22050\",\"PHT87359\",\"MCD7464788\",\"KAA8542235\",\"CDP12706\",\"KAF3684770\",\"KAI5665094\",\"VFQ95612\",\"KAJ0643750\"]}"
     ]
    }
   ],
   "source": [
    "!curl -s \"https://rest.uniprot.org/idmapping/uniref/results/c928648e3206d0875a515085ea5403a09fcaf463\"\n"
   ]
  },
  {
   "cell_type": "code",
   "execution_count": null,
   "metadata": {},
   "outputs": [],
   "source": []
  }
 ],
 "metadata": {
  "kernelspec": {
   "display_name": "fastai",
   "language": "python",
   "name": "python3"
  },
  "language_info": {
   "codemirror_mode": {
    "name": "ipython",
    "version": 3
   },
   "file_extension": ".py",
   "mimetype": "text/x-python",
   "name": "python",
   "nbconvert_exporter": "python",
   "pygments_lexer": "ipython3",
   "version": "3.9.15"
  },
  "orig_nbformat": 4
 },
 "nbformat": 4,
 "nbformat_minor": 2
}
