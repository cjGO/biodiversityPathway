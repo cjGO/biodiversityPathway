{
 "cells": [
  {
   "cell_type": "code",
   "execution_count": 9,
   "metadata": {},
   "outputs": [],
   "source": [
    "from Bio.Blast import NCBIWWW\n",
    "from Bio import SeqIO\n",
    "import json\n",
    "from Bio.Seq import Seq\n",
    "from Bio.SeqRecord import SeqRecord\n",
    "import xmltodict\n",
    "from tqdm import tqdm\n"
   ]
  },
  {
   "cell_type": "code",
   "execution_count": 10,
   "metadata": {},
   "outputs": [],
   "source": [
    "nicotine = '/mnt/c/Users/cltng/OneDrive/Desktop/uniprot-compressed_true_download_true_format_json_query__28Nicotine_-2023.05.11-18.33.15.22.json'"
   ]
  },
  {
   "cell_type": "code",
   "execution_count": 11,
   "metadata": {},
   "outputs": [],
   "source": [
    "\n",
    "with open(nicotine, 'r') as file:\n",
    "    data = json.load(file)\n",
    "\n",
    "# Now you can work with the JSON data stored in the 'data' variable.\n"
   ]
  },
  {
   "cell_type": "code",
   "execution_count": 12,
   "metadata": {},
   "outputs": [],
   "source": [
    "ex = data['results'][0]"
   ]
  },
  {
   "cell_type": "code",
   "execution_count": 13,
   "metadata": {},
   "outputs": [
    {
     "name": "stdout",
     "output_type": "stream",
     "text": [
      "['lamiids']\n"
     ]
    }
   ],
   "source": [
    "uniq = []\n",
    "for i in data['results']:\n",
    "  typ = (i['organism']['lineage'][11])\n",
    "\n",
    "  if typ not in uniq:\n",
    "    uniq.append(typ)\n",
    "print(uniq)"
   ]
  },
  {
   "cell_type": "code",
   "execution_count": 14,
   "metadata": {},
   "outputs": [],
   "source": [
    "for i in ex['comments']:\n",
    "    if i['commentType'] == 'SUBCELLULAR LOCATION':\n",
    "        cell_location = (i['subcellularLocations'][0]['location']['value'])"
   ]
  },
  {
   "cell_type": "code",
   "execution_count": 15,
   "metadata": {},
   "outputs": [
    {
     "name": "stdout",
     "output_type": "stream",
     "text": [
      "{'uniprot_id': 'DAO1_TOBAC', 'primary_accession': 'A0A1S3XSG2', 'common_name': 'Common tobacco', 'species_name': 'Nicotiana tabacum', 'sequence': 'MATTKQKVTAPSSSTAPCCPSTSILRREATAAVAGVGDGLQNWNNVPSVDDKQKKTASSALASLASTEPLSSNTSTKGIQIMTRAQTCHPLDPLSAAEISVAVATVRAAGETPEVRDGMRFIEVVLLEPDKSVVALADAYFFPPFQSSLMPRTKGGSLIPTKLPPRRARLIVYNKKTNETSIWIVELNEVHAAARGGHHRGKVISSNVVPDVQPPIDAQEYAECEAVVKSYPPFRDAMRRRGIDDLDLVMVDPWCVGYHSEADAPSRRLAKPLVFCRTESDCPMENGYARPVEGIYVLVDVQNMQIIEFEDRKLVPLPPADPLRNYTAGETRGGVDRSDVKPLHIIQPEGPSFRISGNYIEWQKWNFRIGFTPREGLVIHSVAYLDGSRGRRPIAHRLSFVEMVVPYGDPNDPHYRKNAFDAGEDGLGKNAHSLKRGCDCLGYIKYFDAHFTNFTGGVETTENCVCLHEEDHGMLWKHQDWRTGLAEVRRSRRLTVSFVCTVANYEYAFYWHFYQDGKIEAEVKLTGILSLGALQPGEYRKYGTTILPGLYAPVHQHFFVARMNMAVDCKPGEAHNQVVEVNVKVEEPGKENVHNNAFYAEETLLRSELQAMRDCDPFSARHWIVRNTRTVNRTGQLTGYKLVPGPNCLPLAGPEAKFLRRAAFLKHNLWVTQYAPGEEFPGGEFPNQNPRVGEGLASWVKQDRPLEESDIVLWYIFGITHVPRLEDWPVMPVEHIGFVLQPHGFFNCSPAVDVPPPSACDSESRDSDVTETSVAKSTATSLLAKL', 'cell_location': 'Peroxisome', 'superkingdom': 'Eukaryota', 'kingdom': 'Viridiplantae', 'order': 'Solanales', 'family': 'Solanaceae', 'genus': 'Nicotianoideae', 'properties': [{'type': 'Chain', 'location': {'start': {'value': 1, 'modifier': 'EXACT'}, 'end': {'value': 786, 'modifier': 'EXACT'}}, 'description': 'Diamine oxidase [copper-containing] 1, peroxisomal', 'featureId': 'PRO_0000455787'}, {'type': 'Active site', 'location': {'start': {'value': 421, 'modifier': 'EXACT'}, 'end': {'value': 421, 'modifier': 'EXACT'}}, 'description': 'Proton acceptor', 'evidences': [{'evidenceCode': 'ECO:0000250', 'source': 'UniProtKB', 'id': 'P12807'}]}, {'type': 'Active site', 'location': {'start': {'value': 505, 'modifier': 'EXACT'}, 'end': {'value': 505, 'modifier': 'EXACT'}}, 'description': 'Schiff-base intermediate with substrate; via topaquinone', 'evidences': [{'evidenceCode': 'ECO:0000250', 'source': 'UniProtKB', 'id': 'P12807'}]}, {'type': 'Binding site', 'location': {'start': {'value': 419, 'modifier': 'EXACT'}, 'end': {'value': 430, 'modifier': 'EXACT'}}, 'description': '', 'evidences': [{'evidenceCode': 'ECO:0000250', 'source': 'UniProtKB', 'id': 'P12807'}], 'ligand': {'name': 'substrate'}}, {'type': 'Binding site', 'location': {'start': {'value': 502, 'modifier': 'EXACT'}, 'end': {'value': 507, 'modifier': 'EXACT'}}, 'description': '', 'evidences': [{'evidenceCode': 'ECO:0000250', 'source': 'UniProtKB', 'id': 'P46883'}], 'ligand': {'name': 'substrate'}}, {'type': 'Binding site', 'location': {'start': {'value': 555, 'modifier': 'EXACT'}, 'end': {'value': 555, 'modifier': 'EXACT'}}, 'description': '', 'featureCrossReferences': [{'database': 'ChEBI', 'id': 'CHEBI:23378'}], 'evidences': [{'evidenceCode': 'ECO:0000250', 'source': 'UniProtKB', 'id': 'P12807'}], 'ligand': {'name': 'Cu cation', 'id': 'ChEBI:CHEBI:23378'}}, {'type': 'Binding site', 'location': {'start': {'value': 557, 'modifier': 'EXACT'}, 'end': {'value': 557, 'modifier': 'EXACT'}}, 'description': '', 'featureCrossReferences': [{'database': 'ChEBI', 'id': 'CHEBI:23378'}], 'evidences': [{'evidenceCode': 'ECO:0000250', 'source': 'UniProtKB', 'id': 'P12807'}], 'ligand': {'name': 'Cu cation', 'id': 'ChEBI:CHEBI:23378'}}, {'type': 'Binding site', 'location': {'start': {'value': 710, 'modifier': 'EXACT'}, 'end': {'value': 710, 'modifier': 'EXACT'}}, 'description': '', 'featureCrossReferences': [{'database': 'ChEBI', 'id': 'CHEBI:29035'}], 'evidences': [{'evidenceCode': 'ECO:0000250', 'source': 'UniProtKB', 'id': 'Q43077'}], 'ligand': {'name': 'Mn(2+)', 'id': 'ChEBI:CHEBI:29035'}}, {'type': 'Binding site', 'location': {'start': {'value': 711, 'modifier': 'EXACT'}, 'end': {'value': 711, 'modifier': 'EXACT'}}, 'description': '', 'featureCrossReferences': [{'database': 'ChEBI', 'id': 'CHEBI:29035'}], 'evidences': [{'evidenceCode': 'ECO:0000250', 'source': 'UniProtKB', 'id': 'Q43077'}], 'ligand': {'name': 'Mn(2+)', 'id': 'ChEBI:CHEBI:29035'}}, {'type': 'Binding site', 'location': {'start': {'value': 721, 'modifier': 'EXACT'}, 'end': {'value': 721, 'modifier': 'EXACT'}}, 'description': '', 'featureCrossReferences': [{'database': 'ChEBI', 'id': 'CHEBI:23378'}], 'evidences': [{'evidenceCode': 'ECO:0000250', 'source': 'UniProtKB', 'id': 'P12807'}], 'ligand': {'name': 'Cu cation', 'id': 'ChEBI:CHEBI:23378'}}, {'type': 'Site', 'location': {'start': {'value': 784, 'modifier': 'EXACT'}, 'end': {'value': 786, 'modifier': 'EXACT'}}, 'description': 'Microbody targeting signal', 'evidences': [{'evidenceCode': 'ECO:0000255'}]}, {'type': 'Modified residue', 'location': {'start': {'value': 505, 'modifier': 'EXACT'}, 'end': {'value': 505, 'modifier': 'EXACT'}}, 'description': \"2',4',5'-topaquinone\", 'evidences': [{'evidenceCode': 'ECO:0000250', 'source': 'UniProtKB', 'id': 'P12807'}]}, {'type': 'Disulfide bond', 'location': {'start': {'value': 440, 'modifier': 'EXACT'}, 'end': {'value': 466, 'modifier': 'EXACT'}}, 'description': '', 'evidences': [{'evidenceCode': 'ECO:0000250', 'source': 'UniProtKB', 'id': 'P12807'}]}]}\n"
     ]
    }
   ],
   "source": [
    "ex = data['results'][0]\n",
    "entry = {}\n",
    "\n",
    "#protein names\n",
    "entry['uniprot_id'] = ex['uniProtkbId']\n",
    "entry['primary_accession'] = ex['primaryAccession']\n",
    "entry['common_name'] = ex['organism']['commonName']\n",
    "entry['species_name'] = ex['organism']['scientificName']\n",
    "entry['sequence'] = ex['sequence']['value']\n",
    "\n",
    "#subcellular location\n",
    "for i in ex['comments']:\n",
    "    if i['commentType'] == 'SUBCELLULAR LOCATION':\n",
    "        entry['cell_location'] = (i['subcellularLocations'][0]['location']['value'])\n",
    "\n",
    "#taxonomy\n",
    "entry['superkingdom'] = ex['organism']['lineage'][0]\n",
    "entry['kingdom'] = ex['organism']['lineage'][1]\n",
    "entry['order'] = ex['organism']['lineage'][12]\n",
    "entry['family'] = ex['organism']['lineage'][13]\n",
    "entry['genus'] = ex['organism']['lineage'][14]\n",
    "\n",
    "#protein properties\n",
    "entry['properties'] = ex['features']\n",
    "\n",
    "print(entry)"
   ]
  },
  {
   "cell_type": "code",
   "execution_count": 16,
   "metadata": {},
   "outputs": [
    {
     "name": "stderr",
     "output_type": "stream",
     "text": [
      "100%|██████████| 13/13 [00:00<00:00, 63255.16it/s]"
     ]
    },
    {
     "name": "stdout",
     "output_type": "stream",
     "text": [
      "type:  Chain\n",
      "desc :  Diamine oxidase [copper-containing] 1, peroxisomal\n",
      "type:  Active site\n",
      "desc :  Proton acceptor\n",
      "type:  Active site\n",
      "desc :  Schiff-base intermediate with substrate; via topaquinone\n",
      "type:  Binding site\n",
      "desc :  \n",
      "liga :  substrate\n",
      "type:  Binding site\n",
      "desc :  \n",
      "liga :  substrate\n",
      "type:  Binding site\n",
      "desc :  \n",
      "liga :  Cu cation\n",
      "type:  Binding site\n",
      "desc :  \n",
      "liga :  Cu cation\n",
      "type:  Binding site\n",
      "desc :  \n",
      "liga :  Mn(2+)\n",
      "type:  Binding site\n",
      "desc :  \n",
      "liga :  Mn(2+)\n",
      "type:  Binding site\n",
      "desc :  \n",
      "liga :  Cu cation\n",
      "type:  Site\n",
      "desc :  Microbody targeting signal\n",
      "type:  Modified residue\n",
      "desc :  2',4',5'-topaquinone\n",
      "type:  Disulfide bond\n",
      "desc :  \n"
     ]
    },
    {
     "name": "stderr",
     "output_type": "stream",
     "text": [
      "\n"
     ]
    }
   ],
   "source": [
    "for i in tqdm(ex['features']):\n",
    "    print('type: ', i['type'])\n",
    "    print('desc : ', i['description'])\n",
    "    if 'ligand' in i:\n",
    "        print('liga : ', i['ligand']['name'])"
   ]
  },
  {
   "cell_type": "code",
   "execution_count": 17,
   "metadata": {},
   "outputs": [
    {
     "data": {
      "text/plain": [
       "[]"
      ]
     },
     "execution_count": 17,
     "metadata": {},
     "output_type": "execute_result"
    }
   ],
   "source": [
    "import os\n",
    "from tqdm import tqdm\n",
    "os.listdir('./blast_results')"
   ]
  },
  {
   "cell_type": "code",
   "execution_count": 37,
   "metadata": {},
   "outputs": [
    {
     "name": "stderr",
     "output_type": "stream",
     "text": [
      " 39%|███▉      | 84/214 [17:11:14<10:16:08, 284.38s/it]   "
     ]
    }
   ],
   "source": [
    "for ex in tqdm(data['results']):\n",
    "    already_blasted = os.listdir('./blast_results/')\n",
    "    if f\"{ex['primaryAccession']}_blast_results.xml\" not in already_blasted:\n",
    "        protein_sequence_str = ex['sequence']['value']\n",
    "        protein_sequence = SeqRecord(Seq(protein_sequence_str), id=\"my_protein\", description=\"My protein sequence\")\n",
    "        result_handle = NCBIWWW.qblast(\"blastp\", \"nr\", protein_sequence.seq)\n",
    "        with open(f\"./blast_results/{ex['primaryAccession']}_blast_results.xml\", \"w\") as result_file:\n",
    "            result_file.write(result_handle.read())"
   ]
  },
  {
   "cell_type": "code",
   "execution_count": 18,
   "metadata": {},
   "outputs": [],
   "source": [
    "protein_sequence_str = ex['sequence']['value']\n",
    "protein_sequence = SeqRecord(Seq(protein_sequence_str), id=\"my_protein\", description=\"My protein sequence\")\n",
    "result_handle = NCBIWWW.qblast(\"blastp\", \"nr\", protein_sequence.seq)"
   ]
  },
  {
   "cell_type": "code",
   "execution_count": 31,
   "metadata": {},
   "outputs": [
    {
     "data": {
      "text/plain": [
       "<Bio.Blast.NCBIXML.BlastParser at 0x7fb41de8cd00>"
      ]
     },
     "execution_count": 31,
     "metadata": {},
     "output_type": "execute_result"
    }
   ],
   "source": [
    "NCBIXML.BlastParser(result_handle)"
   ]
  },
  {
   "cell_type": "code",
   "execution_count": 23,
   "metadata": {},
   "outputs": [
    {
     "ename": "TypeError",
     "evalue": "write() argument must be str, not _io.StringIO",
     "output_type": "error",
     "traceback": [
      "\u001b[0;31m---------------------------------------------------------------------------\u001b[0m",
      "\u001b[0;31mTypeError\u001b[0m                                 Traceback (most recent call last)",
      "Cell \u001b[0;32mIn[23], line 2\u001b[0m\n\u001b[1;32m      1\u001b[0m \u001b[39mwith\u001b[39;00m \u001b[39mopen\u001b[39m(\u001b[39mf\u001b[39m\u001b[39m\"\u001b[39m\u001b[39m./blast_results/\u001b[39m\u001b[39m{\u001b[39;00mex[\u001b[39m'\u001b[39m\u001b[39mprimaryAccession\u001b[39m\u001b[39m'\u001b[39m]\u001b[39m}\u001b[39;00m\u001b[39m_blast_results.json\u001b[39m\u001b[39m\"\u001b[39m, \u001b[39m\"\u001b[39m\u001b[39mw\u001b[39m\u001b[39m\"\u001b[39m) \u001b[39mas\u001b[39;00m result_file:\n\u001b[0;32m----> 2\u001b[0m     result_file\u001b[39m.\u001b[39;49mwrite(result_handle)\n",
      "\u001b[0;31mTypeError\u001b[0m: write() argument must be str, not _io.StringIO"
     ]
    }
   ],
   "source": [
    "with open(f\"./blast_results/{ex['primaryAccession']}_blast_results.json\", \"w\") as result_file:\n",
    "    result_file.write(result_handle)"
   ]
  },
  {
   "cell_type": "code",
   "execution_count": 32,
   "metadata": {},
   "outputs": [],
   "source": [
    "def json_serializable(obj):\n",
    "    if isinstance(obj, (list, tuple)):\n",
    "        return [json_serializable(sub_obj) for sub_obj in obj]\n",
    "    elif isinstance(obj, dict):\n",
    "        return {key: json_serializable(value) for key, value in obj.items()}\n",
    "    elif hasattr(obj, '__dict__'):\n",
    "        return json_serializable(vars(obj))\n",
    "    else:\n",
    "        return obj\n",
    "\n",
    "blast_records_json = json_serializable(list(blast_records))\n"
   ]
  },
  {
   "cell_type": "code",
   "execution_count": 33,
   "metadata": {},
   "outputs": [
    {
     "data": {
      "text/plain": [
       "[]"
      ]
     },
     "execution_count": 33,
     "metadata": {},
     "output_type": "execute_result"
    }
   ],
   "source": [
    "blast_records_json"
   ]
  },
  {
   "cell_type": "code",
   "execution_count": 26,
   "metadata": {},
   "outputs": [
    {
     "ename": "ValueError",
     "evalue": "Your XML file was empty",
     "output_type": "error",
     "traceback": [
      "\u001b[0;31m---------------------------------------------------------------------------\u001b[0m",
      "\u001b[0;31mValueError\u001b[0m                                Traceback (most recent call last)",
      "Cell \u001b[0;32mIn[26], line 4\u001b[0m\n\u001b[1;32m      1\u001b[0m E_VALUE_THRESH \u001b[39m=\u001b[39m \u001b[39m0.04\u001b[39m\n\u001b[1;32m      2\u001b[0m blast_results \u001b[39m=\u001b[39m []\n\u001b[0;32m----> 4\u001b[0m \u001b[39mfor\u001b[39;00m blast_record \u001b[39min\u001b[39;00m blast_records:\n\u001b[1;32m      5\u001b[0m     alignments \u001b[39m=\u001b[39m []\n\u001b[1;32m      6\u001b[0m     \u001b[39mfor\u001b[39;00m alignment \u001b[39min\u001b[39;00m blast_record\u001b[39m.\u001b[39malignments:\n",
      "File \u001b[0;32m~/miniconda3/envs/fastai/lib/python3.9/site-packages/Bio/Blast/NCBIXML.py:799\u001b[0m, in \u001b[0;36mparse\u001b[0;34m(handle, debug)\u001b[0m\n\u001b[1;32m    795\u001b[0m     pending \u001b[39m=\u001b[39m \u001b[39mb\u001b[39m\u001b[39m\"\u001b[39m\u001b[39m\"\u001b[39m\n\u001b[1;32m    797\u001b[0m \u001b[39mif\u001b[39;00m \u001b[39mnot\u001b[39;00m text:\n\u001b[1;32m    798\u001b[0m     \u001b[39m# NO DATA FOUND!\u001b[39;00m\n\u001b[0;32m--> 799\u001b[0m     \u001b[39mraise\u001b[39;00m \u001b[39mValueError\u001b[39;00m(\u001b[39m\"\u001b[39m\u001b[39mYour XML file was empty\u001b[39m\u001b[39m\"\u001b[39m)\n\u001b[1;32m    801\u001b[0m \u001b[39mwhile\u001b[39;00m text:\n\u001b[1;32m    802\u001b[0m     \u001b[39m# We are now starting a new XML file\u001b[39;00m\n\u001b[1;32m    803\u001b[0m     \u001b[39mif\u001b[39;00m \u001b[39mnot\u001b[39;00m text\u001b[39m.\u001b[39mstartswith(XML_START):\n",
      "\u001b[0;31mValueError\u001b[0m: Your XML file was empty"
     ]
    }
   ],
   "source": []
  },
  {
   "cell_type": "code",
   "execution_count": null,
   "metadata": {},
   "outputs": [],
   "source": []
  }
 ],
 "metadata": {
  "kernelspec": {
   "display_name": "fastai",
   "language": "python",
   "name": "python3"
  },
  "language_info": {
   "codemirror_mode": {
    "name": "ipython",
    "version": 3
   },
   "file_extension": ".py",
   "mimetype": "text/x-python",
   "name": "python",
   "nbconvert_exporter": "python",
   "pygments_lexer": "ipython3",
   "version": "3.9.15"
  },
  "orig_nbformat": 4
 },
 "nbformat": 4,
 "nbformat_minor": 2
}
