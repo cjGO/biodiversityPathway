{
 "cells": [
  {
   "cell_type": "code",
   "execution_count": 1,
   "metadata": {},
   "outputs": [],
   "source": [
    "from Bio.Blast import NCBIWWW\n",
    "from Bio import SeqIO\n",
    "import json\n",
    "from Bio.Seq import Seq\n",
    "from Bio.SeqRecord import SeqRecord\n",
    "import xmltodict\n",
    "from tqdm import tqdm\n"
   ]
  },
  {
   "cell_type": "code",
   "execution_count": 2,
   "metadata": {},
   "outputs": [],
   "source": [
    "nicotine = '/mnt/c/Users/cltng/OneDrive/Desktop/uniprot-compressed_true_download_true_format_json_query__28Nicotine_-2023.05.11-18.33.15.22.json'"
   ]
  },
  {
   "cell_type": "code",
   "execution_count": 3,
   "metadata": {},
   "outputs": [],
   "source": [
    "\n",
    "with open(nicotine, 'r') as file:\n",
    "    data = json.load(file)\n",
    "\n",
    "# Now you can work with the JSON data stored in the 'data' variable.\n"
   ]
  },
  {
   "cell_type": "code",
   "execution_count": 4,
   "metadata": {},
   "outputs": [],
   "source": [
    "ex = data['results'][0]"
   ]
  },
  {
   "cell_type": "code",
   "execution_count": 5,
   "metadata": {},
   "outputs": [
    {
     "name": "stdout",
     "output_type": "stream",
     "text": [
      "['lamiids']\n"
     ]
    }
   ],
   "source": [
    "uniq = []\n",
    "for i in data['results']:\n",
    "  typ = (i['organism']['lineage'][11])\n",
    "\n",
    "  if typ not in uniq:\n",
    "    uniq.append(typ)\n",
    "print(uniq)"
   ]
  },
  {
   "cell_type": "code",
   "execution_count": 6,
   "metadata": {},
   "outputs": [],
   "source": [
    "for i in ex['comments']:\n",
    "    if i['commentType'] == 'SUBCELLULAR LOCATION':\n",
    "        cell_location = (i['subcellularLocations'][0]['location']['value'])"
   ]
  },
  {
   "cell_type": "code",
   "execution_count": 7,
   "metadata": {},
   "outputs": [
    {
     "name": "stdout",
     "output_type": "stream",
     "text": [
      "{'uniprot_id': 'DAO1_TOBAC', 'primary_accession': 'A0A1S3XSG2', 'common_name': 'Common tobacco', 'species_name': 'Nicotiana tabacum', 'sequence': 'MATTKQKVTAPSSSTAPCCPSTSILRREATAAVAGVGDGLQNWNNVPSVDDKQKKTASSALASLASTEPLSSNTSTKGIQIMTRAQTCHPLDPLSAAEISVAVATVRAAGETPEVRDGMRFIEVVLLEPDKSVVALADAYFFPPFQSSLMPRTKGGSLIPTKLPPRRARLIVYNKKTNETSIWIVELNEVHAAARGGHHRGKVISSNVVPDVQPPIDAQEYAECEAVVKSYPPFRDAMRRRGIDDLDLVMVDPWCVGYHSEADAPSRRLAKPLVFCRTESDCPMENGYARPVEGIYVLVDVQNMQIIEFEDRKLVPLPPADPLRNYTAGETRGGVDRSDVKPLHIIQPEGPSFRISGNYIEWQKWNFRIGFTPREGLVIHSVAYLDGSRGRRPIAHRLSFVEMVVPYGDPNDPHYRKNAFDAGEDGLGKNAHSLKRGCDCLGYIKYFDAHFTNFTGGVETTENCVCLHEEDHGMLWKHQDWRTGLAEVRRSRRLTVSFVCTVANYEYAFYWHFYQDGKIEAEVKLTGILSLGALQPGEYRKYGTTILPGLYAPVHQHFFVARMNMAVDCKPGEAHNQVVEVNVKVEEPGKENVHNNAFYAEETLLRSELQAMRDCDPFSARHWIVRNTRTVNRTGQLTGYKLVPGPNCLPLAGPEAKFLRRAAFLKHNLWVTQYAPGEEFPGGEFPNQNPRVGEGLASWVKQDRPLEESDIVLWYIFGITHVPRLEDWPVMPVEHIGFVLQPHGFFNCSPAVDVPPPSACDSESRDSDVTETSVAKSTATSLLAKL', 'cell_location': 'Peroxisome', 'superkingdom': 'Eukaryota', 'kingdom': 'Viridiplantae', 'order': 'Solanales', 'family': 'Solanaceae', 'genus': 'Nicotianoideae', 'properties': [{'type': 'Chain', 'location': {'start': {'value': 1, 'modifier': 'EXACT'}, 'end': {'value': 786, 'modifier': 'EXACT'}}, 'description': 'Diamine oxidase [copper-containing] 1, peroxisomal', 'featureId': 'PRO_0000455787'}, {'type': 'Active site', 'location': {'start': {'value': 421, 'modifier': 'EXACT'}, 'end': {'value': 421, 'modifier': 'EXACT'}}, 'description': 'Proton acceptor', 'evidences': [{'evidenceCode': 'ECO:0000250', 'source': 'UniProtKB', 'id': 'P12807'}]}, {'type': 'Active site', 'location': {'start': {'value': 505, 'modifier': 'EXACT'}, 'end': {'value': 505, 'modifier': 'EXACT'}}, 'description': 'Schiff-base intermediate with substrate; via topaquinone', 'evidences': [{'evidenceCode': 'ECO:0000250', 'source': 'UniProtKB', 'id': 'P12807'}]}, {'type': 'Binding site', 'location': {'start': {'value': 419, 'modifier': 'EXACT'}, 'end': {'value': 430, 'modifier': 'EXACT'}}, 'description': '', 'evidences': [{'evidenceCode': 'ECO:0000250', 'source': 'UniProtKB', 'id': 'P12807'}], 'ligand': {'name': 'substrate'}}, {'type': 'Binding site', 'location': {'start': {'value': 502, 'modifier': 'EXACT'}, 'end': {'value': 507, 'modifier': 'EXACT'}}, 'description': '', 'evidences': [{'evidenceCode': 'ECO:0000250', 'source': 'UniProtKB', 'id': 'P46883'}], 'ligand': {'name': 'substrate'}}, {'type': 'Binding site', 'location': {'start': {'value': 555, 'modifier': 'EXACT'}, 'end': {'value': 555, 'modifier': 'EXACT'}}, 'description': '', 'featureCrossReferences': [{'database': 'ChEBI', 'id': 'CHEBI:23378'}], 'evidences': [{'evidenceCode': 'ECO:0000250', 'source': 'UniProtKB', 'id': 'P12807'}], 'ligand': {'name': 'Cu cation', 'id': 'ChEBI:CHEBI:23378'}}, {'type': 'Binding site', 'location': {'start': {'value': 557, 'modifier': 'EXACT'}, 'end': {'value': 557, 'modifier': 'EXACT'}}, 'description': '', 'featureCrossReferences': [{'database': 'ChEBI', 'id': 'CHEBI:23378'}], 'evidences': [{'evidenceCode': 'ECO:0000250', 'source': 'UniProtKB', 'id': 'P12807'}], 'ligand': {'name': 'Cu cation', 'id': 'ChEBI:CHEBI:23378'}}, {'type': 'Binding site', 'location': {'start': {'value': 710, 'modifier': 'EXACT'}, 'end': {'value': 710, 'modifier': 'EXACT'}}, 'description': '', 'featureCrossReferences': [{'database': 'ChEBI', 'id': 'CHEBI:29035'}], 'evidences': [{'evidenceCode': 'ECO:0000250', 'source': 'UniProtKB', 'id': 'Q43077'}], 'ligand': {'name': 'Mn(2+)', 'id': 'ChEBI:CHEBI:29035'}}, {'type': 'Binding site', 'location': {'start': {'value': 711, 'modifier': 'EXACT'}, 'end': {'value': 711, 'modifier': 'EXACT'}}, 'description': '', 'featureCrossReferences': [{'database': 'ChEBI', 'id': 'CHEBI:29035'}], 'evidences': [{'evidenceCode': 'ECO:0000250', 'source': 'UniProtKB', 'id': 'Q43077'}], 'ligand': {'name': 'Mn(2+)', 'id': 'ChEBI:CHEBI:29035'}}, {'type': 'Binding site', 'location': {'start': {'value': 721, 'modifier': 'EXACT'}, 'end': {'value': 721, 'modifier': 'EXACT'}}, 'description': '', 'featureCrossReferences': [{'database': 'ChEBI', 'id': 'CHEBI:23378'}], 'evidences': [{'evidenceCode': 'ECO:0000250', 'source': 'UniProtKB', 'id': 'P12807'}], 'ligand': {'name': 'Cu cation', 'id': 'ChEBI:CHEBI:23378'}}, {'type': 'Site', 'location': {'start': {'value': 784, 'modifier': 'EXACT'}, 'end': {'value': 786, 'modifier': 'EXACT'}}, 'description': 'Microbody targeting signal', 'evidences': [{'evidenceCode': 'ECO:0000255'}]}, {'type': 'Modified residue', 'location': {'start': {'value': 505, 'modifier': 'EXACT'}, 'end': {'value': 505, 'modifier': 'EXACT'}}, 'description': \"2',4',5'-topaquinone\", 'evidences': [{'evidenceCode': 'ECO:0000250', 'source': 'UniProtKB', 'id': 'P12807'}]}, {'type': 'Disulfide bond', 'location': {'start': {'value': 440, 'modifier': 'EXACT'}, 'end': {'value': 466, 'modifier': 'EXACT'}}, 'description': '', 'evidences': [{'evidenceCode': 'ECO:0000250', 'source': 'UniProtKB', 'id': 'P12807'}]}]}\n"
     ]
    }
   ],
   "source": [
    "ex = data['results'][0]\n",
    "entry = {}\n",
    "\n",
    "#protein names\n",
    "entry['uniprot_id'] = ex['uniProtkbId']\n",
    "entry['primary_accession'] = ex['primaryAccession']\n",
    "entry['common_name'] = ex['organism']['commonName']\n",
    "entry['species_name'] = ex['organism']['scientificName']\n",
    "entry['sequence'] = ex['sequence']['value']\n",
    "\n",
    "#subcellular location\n",
    "for i in ex['comments']:\n",
    "    if i['commentType'] == 'SUBCELLULAR LOCATION':\n",
    "        entry['cell_location'] = (i['subcellularLocations'][0]['location']['value'])\n",
    "\n",
    "#taxonomy\n",
    "entry['superkingdom'] = ex['organism']['lineage'][0]\n",
    "entry['kingdom'] = ex['organism']['lineage'][1]\n",
    "entry['order'] = ex['organism']['lineage'][12]\n",
    "entry['family'] = ex['organism']['lineage'][13]\n",
    "entry['genus'] = ex['organism']['lineage'][14]\n",
    "\n",
    "#protein properties\n",
    "entry['properties'] = ex['features']\n",
    "\n",
    "print(entry)"
   ]
  },
  {
   "cell_type": "code",
   "execution_count": 16,
   "metadata": {},
   "outputs": [
    {
     "name": "stderr",
     "output_type": "stream",
     "text": [
      "100%|██████████| 13/13 [00:00<00:00, 63255.16it/s]"
     ]
    },
    {
     "name": "stdout",
     "output_type": "stream",
     "text": [
      "type:  Chain\n",
      "desc :  Diamine oxidase [copper-containing] 1, peroxisomal\n",
      "type:  Active site\n",
      "desc :  Proton acceptor\n",
      "type:  Active site\n",
      "desc :  Schiff-base intermediate with substrate; via topaquinone\n",
      "type:  Binding site\n",
      "desc :  \n",
      "liga :  substrate\n",
      "type:  Binding site\n",
      "desc :  \n",
      "liga :  substrate\n",
      "type:  Binding site\n",
      "desc :  \n",
      "liga :  Cu cation\n",
      "type:  Binding site\n",
      "desc :  \n",
      "liga :  Cu cation\n",
      "type:  Binding site\n",
      "desc :  \n",
      "liga :  Mn(2+)\n",
      "type:  Binding site\n",
      "desc :  \n",
      "liga :  Mn(2+)\n",
      "type:  Binding site\n",
      "desc :  \n",
      "liga :  Cu cation\n",
      "type:  Site\n",
      "desc :  Microbody targeting signal\n",
      "type:  Modified residue\n",
      "desc :  2',4',5'-topaquinone\n",
      "type:  Disulfide bond\n",
      "desc :  \n"
     ]
    },
    {
     "name": "stderr",
     "output_type": "stream",
     "text": [
      "\n"
     ]
    }
   ],
   "source": [
    "for i in tqdm(ex['features']):\n",
    "    print('type: ', i['type'])\n",
    "    print('desc : ', i['description'])\n",
    "    if 'ligand' in i:\n",
    "        print('liga : ', i['ligand']['name'])"
   ]
  },
  {
   "cell_type": "code",
   "execution_count": null,
   "metadata": {},
   "outputs": [],
   "source": [
    "from concurrent.futures import ProcessPoolExecutor\n",
    "import os\n",
    "from Bio import SeqIO\n",
    "from Bio.Blast import NCBIWWW\n",
    "from Bio.Seq import Seq\n",
    "from Bio.SeqRecord import SeqRecord\n",
    "from tqdm import tqdm\n",
    "\n",
    "def process_protein(ex):\n",
    "    already_blasted = os.listdir('./blast_results/')\n",
    "    if f\"{ex['primaryAccession']}_blast_results.xml\" not in already_blasted:\n",
    "        protein_sequence_str = ex['sequence']['value']\n",
    "        protein_sequence = SeqRecord(Seq(protein_sequence_str), id=\"my_protein\", description=\"My protein sequence\")\n",
    "        result_handle = NCBIWWW.qblast(\"blastp\", \"nr\", protein_sequence.seq)\n",
    "        with open(f\"./blast_results/{ex['primaryAccession']}_blast_results.xml\", \"w\") as result_file:\n",
    "            print(f'writing results for {ex}')\n",
    "            result_file.write(result_handle.read())\n"
   ]
  },
  {
   "cell_type": "code",
   "execution_count": null,
   "metadata": {},
   "outputs": [],
   "source": [
    "with ProcessPoolExecutor(max_workers=8) as executor:\n",
    "    executor.map(process_protein, (data['results']))"
   ]
  }
 ],
 "metadata": {
  "kernelspec": {
   "display_name": "fastai",
   "language": "python",
   "name": "python3"
  },
  "language_info": {
   "codemirror_mode": {
    "name": "ipython",
    "version": 3
   },
   "file_extension": ".py",
   "mimetype": "text/x-python",
   "name": "python",
   "nbconvert_exporter": "python",
   "pygments_lexer": "ipython3",
   "version": "3.9.15"
  },
  "orig_nbformat": 4
 },
 "nbformat": 4,
 "nbformat_minor": 2
}
